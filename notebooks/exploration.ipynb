{
 "cells": [
  {
   "cell_type": "markdown",
   "metadata": {},
   "source": [
    "# QLoRA Exploration Notebook\n",
    "\n",
    "This notebook is designed for exploring the QLoRA fine-tuning process. It includes sections for loading data, initializing the model, and running experiments."
   ]
  },
  {
   "cell_type": "code",
   "execution_count": null,
   "metadata": {
    "collapsed": false
   },
   "outputs": [],
   "source": [
    "# Import necessary libraries\n",
    "import os\n",
    "import yaml\n",
    "from src.qlora_finetune_base.data.dataset_loader import load_dataset\n",
    "from src.qlora_finetune_base.models.model_loader import load_model\n",
    "from src.qlora_finetune_base.training.trainer import Trainer\n",
    "from src.qlora_finetune_base.evaluation.evaluator import Evaluator\n",
    "\n",
    "# Load configuration\n",
    "with open('src/qlora_finetune_base/config/default.yaml', 'r') as file:\n",
    "    config = yaml.safe_load(file)\n",
    "\n",
    "# Load dataset\n",
    "dataset = load_dataset(config['data']['path'])\n",
    "\n",
    "# Initialize model\n",
    "model = load_model(config['model']['name'])\n",
    "\n",
    "# Initialize trainer\n",
    "trainer = Trainer(model, dataset, config)\n",
    "\n",
    "# Start training\n",
    "trainer.train()\n",
    "\n",
    "# Evaluate model\n",
    "evaluator = Evaluator(model)\n",
    "metrics = evaluator.evaluate(dataset['validation'])\n",
    "print(metrics)\n"
   ]
  },
  {
   "cell_type": "markdown",
   "metadata": {},
   "source": [
    "## Next Steps\n",
    "\n",
    "1. Modify the configuration settings in `default.yaml` to experiment with different hyperparameters.\n",
    "2. Explore the dataset and model outputs to understand the training dynamics.\n",
    "3. Implement additional evaluation metrics as needed."
   ]
  }
 ],
 "metadata": {
  "kernelspec": {
   "display_name": "Python 3",
   "language": "python",
   "name": "python3"
  },
  "language_info": {
   "codemirror_mode": {
    "name": "ipython",
    "version": 3
   },
   "file_extension": ".py",
   "mimetype": "text/x-python",
   "name": "python",
   "nbconvert_exporter": "python",
   "pygments_lexer": "ipython3",
   "version": "3.8.5"
  }
 },
 "nbformat": 4,
 "nbformat_minor": 4
}